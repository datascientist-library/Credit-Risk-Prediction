{
 "cells": [
  {
   "cell_type": "code",
   "execution_count": 4,
   "id": "b9a2c12e",
   "metadata": {},
   "outputs": [],
   "source": [
    "import joblib\n",
    "import pandas as pd\n",
    "\n",
    "model = joblib.load(\"random_forest_credit_risk.pkl\")\n"
   ]
  },
  {
   "cell_type": "code",
   "execution_count": 5,
   "id": "fff39a88",
   "metadata": {},
   "outputs": [],
   "source": [
    "def get_user_input():\n",
    "    data = {\n",
    "    'age' : 36,\n",
    "    'income' : 90200,\n",
    "    'loan_amount' : 14895,\n",
    "    'credit_score' : 578,\n",
    "    'loan_term' : 48,\n",
    "    'interest_rate' : 13.62488172,\n",
    "    'debt_to_income_ratio' : 21.84525232,\n",
    "    'num_of_dependents' : 0,\n",
    "    'credit_history_length' : 11,\n",
    "    'num_credit_lines' : 16,\n",
    "    'late_payments' : 8,\n",
    "    'bankruptcies' : 0,\n",
    "    'annual_savings' : 40761,\n",
    "    'retirement_savings' : 15299,\n",
    "    'monthly_expenses' : 4064,\n",
    "    'employment_status_self-employed' : False,\n",
    "    'employment_status_unemployed' : False,\n",
    "    'education_level_high_school' : False,\n",
    "    'education_level_master' : True,\n",
    "    'education_level_phd' : False,\n",
    "    'home_ownership_own' : True,\n",
    "    'home_ownership_rent' : False,\n",
    "    'marital_status_married' : False,\n",
    "    'marital_status_single' : True,\n",
    "    }\n",
    "\n",
    "    return pd.DataFrame([data])"
   ]
  },
  {
   "cell_type": "code",
   "execution_count": 6,
   "id": "5eeec7a0",
   "metadata": {},
   "outputs": [
    {
     "name": "stdout",
     "output_type": "stream",
     "text": [
      "Borrower is at low risk\n"
     ]
    }
   ],
   "source": [
    "input_df = get_user_input()\n",
    "prediction = model.predict(input_df)\n",
    "\n",
    "if prediction == 1:\n",
    "    print (\"Borrower is at high risk\")\n",
    "\n",
    "elif prediction == 0:\n",
    "    print (\"Borrower is at low risk\")"
   ]
  }
 ],
 "metadata": {
  "kernelspec": {
   "display_name": "Python 3",
   "language": "python",
   "name": "python3"
  },
  "language_info": {
   "codemirror_mode": {
    "name": "ipython",
    "version": 3
   },
   "file_extension": ".py",
   "mimetype": "text/x-python",
   "name": "python",
   "nbconvert_exporter": "python",
   "pygments_lexer": "ipython3",
   "version": "3.12.3"
  }
 },
 "nbformat": 4,
 "nbformat_minor": 5
}
